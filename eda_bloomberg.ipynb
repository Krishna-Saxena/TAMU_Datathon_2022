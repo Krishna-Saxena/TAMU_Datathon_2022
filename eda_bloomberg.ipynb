{
 "cells": [
  {
   "cell_type": "code",
   "execution_count": 1,
   "id": "cd6c1329",
   "metadata": {},
   "outputs": [],
   "source": [
    "%matplotlib inline\n",
    "import seaborn as sns\n",
    "import matplotlib.pyplot as plt\n",
    "\n",
    "import pandas as pd\n",
    "import numpy as np\n",
    "\n",
    "from sklearn.metrics.pairwise import cosine_similarity, euclidean_distances, manhattan_distances\n",
    "from sklearn.feature_extraction.text import CountVectorizer, TfidfVectorizer\n",
    "from sklearn.decomposition import NMF, LatentDirichletAllocation\n",
    "\n",
    "from sklearn.cluster import KMeans\n",
    "from sklearn.model_selection import train_test_split\n",
    "\n",
    "from collections import defaultdict"
   ]
  },
  {
   "cell_type": "code",
   "execution_count": 2,
   "id": "597ea964",
   "metadata": {},
   "outputs": [
    {
     "data": {
      "text/plain": "((738, 5), (120, 5), (858, 5))"
     },
     "execution_count": 2,
     "metadata": {},
     "output_type": "execute_result"
    }
   ],
   "source": [
    "# read CNN and federal csvs\n",
    "df_cnn = pd.read_csv('cnn_samples.csv')\n",
    "df_fed = pd.read_csv('federal_samples.csv')\n",
    "# extract numpy arrays from text in csv\n",
    "df_cnn['embed'] = df_cnn['embedding'].apply(lambda x: np.array([float(s) for s in x[1:-1].split(', ')]).reshape(1,-1))\n",
    "df_fed['embed'] = df_fed['embeddings'].apply(lambda x: np.array([float(s) for s in x[1:-1].split(', ')]).reshape(1,-1))\n",
    "df_fed.rename(columns={'embeddings':'embedding'}, inplace=True)\n",
    "# combine both data frames\n",
    "df_comb = pd.concat((df_cnn, df_fed), axis=0)\n",
    "df_cnn.shape, df_fed.shape, df_comb.shape"
   ]
  },
  {
   "cell_type": "code",
   "execution_count": 3,
   "id": "40b32650",
   "metadata": {},
   "outputs": [],
   "source": [
    "# read the 5 challenge embeddings\n",
    "df_cha = pd.read_csv('challenge.csv')\n",
    "df_cha['embed'] = df_cha['embeddings'].apply(lambda x: np.array([float(s) for s in x[1:-1].split(', ')]).reshape(1,-1))"
   ]
  },
  {
   "cell_type": "code",
   "execution_count": 4,
   "id": "0c07128b",
   "metadata": {},
   "outputs": [],
   "source": [
    "# read the mystery challenge\n",
    "df_mys = pd.read_json('mystery.json')\n",
    "df_mys = pd.DataFrame({'embed': df_mys.T.values.tolist()})\n",
    "df_mys['embed'] = df_mys['embed'].apply(lambda x: np.array([float(s) for s in x]).reshape(1,-1))"
   ]
  },
  {
   "cell_type": "code",
   "execution_count": 5,
   "id": "b96e869c",
   "metadata": {},
   "outputs": [],
   "source": [
    "# find the optimal number of clusters using KNN classifier\n",
    "# inertia = average square distance to closest centroid\n",
    "def get_kmeans_inertias(df, K):\n",
    "    inertias = []\n",
    "    X = [x for x in df['embed'].values]\n",
    "    X = np.concatenate(X)\n",
    "\n",
    "    for k in K:\n",
    "        # Building and fitting the model\n",
    "        kmeanModel = KMeans(n_clusters=k).fit(X)\n",
    "        inertias.append(kmeanModel.inertia_)\n",
    "    \n",
    "    return inertias"
   ]
  },
  {
   "cell_type": "code",
   "execution_count": 6,
   "id": "8f93fbc7",
   "metadata": {},
   "outputs": [
    {
     "name": "stderr",
     "output_type": "stream",
     "text": [
      "C:\\Users\\krish\\anaconda3\\lib\\site-packages\\sklearn\\cluster\\_kmeans.py:881: UserWarning: KMeans is known to have a memory leak on Windows with MKL, when there are less chunks than available threads. You can avoid it by setting the environment variable OMP_NUM_THREADS=4.\n",
      "  warnings.warn(\n"
     ]
    },
    {
     "data": {
      "text/plain": "<Figure size 432x288 with 1 Axes>",
      "image/png": "[encoded data removed]"
     },
     "metadata": {
      "needs_background": "light"
     },
     "output_type": "display_data"
    }
   ],
   "source": [
    "K = range(1, 20)\n",
    "plt.plot(K, get_kmeans_inertias(df_comb, K), 'bx-')\n",
    "plt.xlabel('k')\n",
    "plt.ylabel('Inertias')\n",
    "plt.title('Elbow Method For Optimal k')\n",
    "plt.show()"
   ]
  },
  {
   "cell_type": "raw",
   "source": [
    "After k=10, the inertia grows slowly, so k=10 is the elbow. We choose 10 clusters going forward."
   ],
   "metadata": {
    "collapsed": false,
    "pycharm": {
     "name": "#%% raw\n"
    }
   }
  },
  {
   "cell_type": "markdown",
   "id": "3e5d9e30",
   "metadata": {},
   "source": [
    "## KNN"
   ]
  },
  {
   "cell_type": "code",
   "execution_count": 7,
   "id": "241efa6c",
   "metadata": {},
   "outputs": [],
   "source": [
    "# Create a 10 Nearest Neighbors classifier\n",
    "X = [x for x in df_cnn['embed'].values]\n",
    "X = np.concatenate(X)\n",
    "kmeanModel = KMeans(n_clusters=10).fit(X)\n",
    "cdist = kmeanModel.transform(X)\n",
    "classes = kmeanModel.predict(X)"
   ]
  },
  {
   "cell_type": "code",
   "execution_count": 8,
   "id": "bfa72c82",
   "metadata": {},
   "outputs": [
    {
     "data": {
      "text/plain": "array([7.83821283e-02, 9.70478715e-03, 5.64634242e-03, 1.87121910e-03,\n       2.82070762e-03, 2.72539436e-02, 8.58619218e-01, 6.63471732e-05,\n       6.31597957e-03, 9.31932691e-03])"
     },
     "execution_count": 8,
     "metadata": {},
     "output_type": "execute_result"
    }
   ],
   "source": [
    "# use softmax to get a probability distribution for each class using distance from all centroids\n",
    "def softmax(vector):\n",
    "    e = np.exp(vector)\n",
    "    return e / e.sum()\n",
    "\n",
    "softmax(max(cdist[1]) - cdist[1])"
   ]
  },
  {
   "cell_type": "code",
   "execution_count": 9,
   "id": "e558c2c2",
   "metadata": {
    "scrolled": true
   },
   "outputs": [],
   "source": [
    "# find all the articles that are close to their centroids\n",
    "incl_cdist = defaultdict(list)\n",
    "THRESHOLD =  0.75\n",
    "for i in range(len(cdist)):\n",
    "    max_class_prob = max(softmax(max(cdist[i]) - cdist[i]))\n",
    "    if max_class_prob > THRESHOLD:\n",
    "        incl_cdist[classes[i]].append(i)"
   ]
  },
  {
   "cell_type": "markdown",
   "id": "f3048b63",
   "metadata": {},
   "source": [
    "## NMF\n",
    "use Non-negative Matrix Factorization to learn how each term is related to the 10 topics and how each article is related to all topics."
   ]
  },
  {
   "cell_type": "code",
   "execution_count": 10,
   "id": "436cd902",
   "metadata": {},
   "outputs": [],
   "source": [
    "# Split combined data into train and test splits in order to validate the process\n",
    "df_comb_train, df_comb_test = train_test_split(df_comb, train_size=0.8, random_state=42)"
   ]
  },
  {
   "cell_type": "code",
   "execution_count": 11,
   "id": "05608a8d",
   "metadata": {
    "scrolled": true
   },
   "outputs": [],
   "source": [
    "# find 1-3 length ngrams and term frequency-inverse document frequency to find were/how often phrases are used in each article\n",
    "tfidf_vectorizer = TfidfVectorizer(ngram_range = (1,3), \n",
    "                                   min_df=2,  \n",
    "                                   max_df=0.95,stop_words='english')\n",
    "tfidf_documents_train = tfidf_vectorizer.fit_transform(df_comb_train.text)    \n",
    "tfidf_documents_test = tfidf_vectorizer.transform(df_comb_test.text)    \n",
    "tfidf_feature_names = tfidf_vectorizer.get_feature_names()"
   ]
  },
  {
   "cell_type": "code",
   "execution_count": 12,
   "id": "b334292f",
   "metadata": {},
   "outputs": [
    {
     "name": "stdout",
     "output_type": "stream",
     "text": [
      "topic  0 ['people', 'like', 'says', 'just', 'world', 'new', 'time', 'facebook', 'life', 'really', 'women', 'think', 'years', 'year', 'said']\n",
      "topic  1 ['osha', 'safety', 'health', 'workers', 'safety health', 'occupational', 'occupational safety', 'occupational safety health', 'hazards', 'cited', 'violations', 'citations', 'penalties', 'company', 'employees']\n",
      "topic  2 ['club', 'league', 'season', 'football', 'team', 'barcelona', 'coach', 'madrid', 'champions', 'real', 'minutes', 'cup', 'game', 'arsenal', 'win']\n",
      "topic  3 ['obama', 'clinton', 'president', 'democrats', 'republican', 'party', 'republicans', 'election', 'campaign', 'vote', 'sen', 'house', 'senate', 'romney', 'gop']\n",
      "topic  4 ['tax', 'irs', 'taxpayers', 'revenue', 'income', 'regulations', 'internal revenue', 'covid', 'internal', 'revenue service', 'internal revenue service', 'covid 19', 'treasury', 'section', 'information']\n",
      "topic  5 ['said', 'government', 'military', 'al', 'pakistan', 'syria', 'security', 'iraq', 'syrian', 'people', 'united', 'forces', 'troops', 'afghanistan', 'china']\n",
      "topic  6 ['said', 'police', 'school', 'authorities', 'told', 'county', 'cnn', 'court', 'state', 'monday', 'man', 'family', 'attorney', 'shooting', 'girl']\n",
      "topic  7 ['eeoc', 'discrimination', 'district', 'disability', 'ada', 'sex', 'employee', 'lawsuit', 'employment', 'employers', 'employees', 'equal', 'court', 'filed', 'suit']\n",
      "topic  8 ['sec', 'securities', 'complaint', 'investors', 'commission', 'securities exchange', 'exchange', 'order', 'million', 'information', 'trading', 'agreed', 'companies', 'exchange commission', 'securities exchange commission']\n",
      "topic  9 ['open', 'grand slam', 'slam', 'grand', 'win', 'djokovic', 'wimbledon', 'nadal', 'champion', 'seed', 'french open', 'australian', 'french', 'tennis', 'round']\n"
     ]
    }
   ],
   "source": [
    "NUM_TOPICS = 10\n",
    "X = tfidf_documents_train\n",
    "\n",
    "nmf = NMF(n_components=NUM_TOPICS, random_state=0, init=\"nndsvd\")\n",
    "# find the topic distribution of each document\n",
    "W = nmf.fit_transform(X)\n",
    "# find the topic distribution for each term\n",
    "H = nmf.components_\n",
    "\n",
    "# show the top 15 most likely terms for each topic\n",
    "TOP_TERMS = 15\n",
    "for topic_index in range(NUM_TOPICS):\n",
    "    # sort terms by their probability of being in the topic_index'th topic\n",
    "    top_indices = np.argsort(H[topic_index, :])[::-1]\n",
    "    top_terms = []\n",
    "    # print the top 15 terms in the topic_index'th topic\n",
    "    for term_index in top_indices[:TOP_TERMS]:\n",
    "        top_terms.append(tfidf_feature_names[term_index])\n",
    "    print(\"topic \", topic_index, top_terms)"
   ]
  },
  {
   "cell_type": "markdown",
   "source": [
    "NMF Identified Topics\n",
    "\n",
    "0. social media\n",
    "1. occupational safety\n",
    "2. soccer\n",
    "3. American politics\n",
    "4. taxes/COVID\n",
    "5. national security\n",
    "6. neighborhood crimes\n",
    "7. workplace equality\n",
    "8. securities and trading\n",
    "9. tennis/golf"
   ],
   "metadata": {
    "collapsed": false,
    "pycharm": {
     "name": "#%% md\n"
    }
   }
  },
  {
   "cell_type": "code",
   "execution_count": 13,
   "id": "e679c07b",
   "metadata": {},
   "outputs": [
    {
     "name": "stdout",
     "output_type": "stream",
     "text": [
      "6 (CNN) -- Three men who were convicted of killing three Cub Scouts 16 years ago w\n",
      "3 (CNN) -- Despite the many differences I had with former President George W. Bush\n",
      "0 Jeddah, Saudi Arabia (CNN) -- At first glance, it looks like a standard road sig\n",
      "9 (CNN)  -- Cristie Kerr is the first player from the United States to top the wom\n",
      "5 (CNN) -- Bolivian President Evo Morales is apologizing to the Jewish community i\n",
      "4 Washington — The U.S. Department of Commerce’s United States Patent and Trademar\n",
      "6 (CNN) -- Defense attorneys representing accused Boston Marathon bomber Dzokhar T\n",
      "6 Pretoria, South Africa (CNN) -- Prosecutors in the Oscar Pistorius murder case w\n",
      "5 THE HAGUE, Netherlands (CNN) -- The chief prosecutor of the International Crimin\n",
      "4 WASHINGTON – As part of the Obama Administration's efforts to strengthen communi\n",
      "6 Sao Paulo, Brazil (CNN) -- Rio de Janeiro's special police forces declared Sunda\n",
      "2 (CNN) -- Spain's Luis Leon Sanchez gave his crash-ravaged Rabobank team a lift o\n",
      "9 (CNN) -- The World Cup has provided a festival of football and color in Brazil, \n",
      "0 (CNN) -- Vin Diesel has shared an \"emotional and bittersweet\" peek at \"Fast & Fu\n",
      "4 WASHINGTON —The Internal Revenue Service today made it easier for small business\n",
      "5 (CNN) -- An 11-year-old boy has been detained by Bahraini authorities for nearly\n",
      "0 (CNN) -- As a child, I thought growing up in a slum near a dumpsite in the Phili\n",
      "0 London (CNN) -- Tension in the stadium was at fever pitch, with the world record\n",
      "5 (CNN) -- Germany's intelligence service has intercepted phone calls by two U.S. \n",
      "0 (CNN) -- The Victoria and Albert Museum in London, UK has acquired two models of\n",
      "5 (CNN)French officials are still trying to determine what caused gunmen to attack\n",
      "1 (CNN) -- A California company is voluntarily recalling 60 packages of walnuts so\n",
      "1 WASHINGTON, DC – The U.S. Department of Labor’s Occupational Safety and Health A\n",
      "5 Tokyo (CNN) -- Japan may set standards for long-term radiation exposure that wou\n",
      "8 Washington, D.C., Dec. 11, 2008 — The Securities and Exchange Commission today c\n",
      "0 London, England (CNN) -- Each week, Global Connections takes two countries and a\n",
      "7 WASHINGTON -- The U.S. Equal Employment Opportunity Commission (EEOC) today anno\n",
      "5 WASHINGTON (CNN) -- The State Department will not renew the contract of security\n",
      "8 Washington D.C., Aug. 21, 2019 —\n",
      "The Securities and Exchange Commission today pr\n",
      "6 Nogales, Mexico (CNN) -- Inside a Mexican jail, Yanira Maldonado wept. A devout \n",
      "0 LOS ANGELES, California (CNN)  -- A crowd of about 10,000 came to Dodger Stadium\n",
      "5 Tripoli, Libya (CNN) -- Libyan state TV reported Sunday that the opposition-held\n",
      "0 (CNN) -- Grapple fans should head to Mongolia each year on July 11. It's the day\n",
      "2 Atlanta (CNN) -- Virginia State University's football team is ineligible for pos\n",
      "3 Washington (CNN) -- A federal court challenge to a new Arizona law aimed at curb\n",
      "5 (CNN) -- Days before Russia hosts the world for the Winter Olympics, authorities\n",
      "0 LONDON, England (CNN) -- The Screening Room went to the Theatre Royal in Drury L\n",
      "5 (CNN) -- In the digital age, war isn't contained to the ground. The Israeli gove\n",
      "2 (CNN) -- A Lionel Messi brace helped Barcelona to a 5-1 win over Athletic Bilbao\n",
      "3 (CNN) -- The Louisiana man who Saturday became the first Vietnamese-American ele\n",
      "3 (CNN) -- First-term Illinois Republican Sen. Mark Kirk said \"no frickin' way am \n",
      "0 (CNN) -- Hate to stand in long lines on Black Friday? After getting your fill of\n",
      "8 Today, the Office for Civil Rights (OCR) at the U.S. Department of Health and Hu\n",
      "2 (CNN) -- Liverpool captain Steven Gerrard says he is happy to stay with the Engl\n",
      "5 (CNN) -- The dramatic overthrow of Egypt's first democratically elected presiden\n",
      "6 (CNN) -- More than 300 relatives and friends of missing Flight MH370 passengers \n",
      "0 (CNN) -- ItÂ´s the ultimate repair tool. A silicone material that can be shaped \n",
      "8 Washington D.C., Sept. 26, 2019 —\n",
      "The Securities and Exchange Commission today a\n",
      "6 (CNN) -- Manuela Testolini and her colleagues had just sat down to dinner at the\n",
      "4 WASHINGTON — The Department of the Treasury and the Internal Revenue Service tod\n",
      "6 WASHINGTON (CNN) -- The case: routine. One man's summary of the facts: anything \n",
      "0 (CNN) -- When the world first met Mickey Mouse, it was as a steamboat captain, a\n",
      "5 (CNN) -- Up to 37 people died Friday after a fire tor through a psychiatric inst\n",
      "0 (CNN) -- Swiss chocolate maker Lindt is expanding into the U.S., China and Russi\n",
      "7 WASHINGTON – The U.S. Equal Employment Opportunity Commission (EEOC) updated its\n",
      "0 (CNN) -- No, not all men channel frustration over romantic rejection into a kill\n",
      "9 (CNN)  -- Tiger Woods may have clung on to his world number one status but after\n",
      "6 (CNN) -- Eight months after being shot in the head outside an Arizona supermarke\n",
      "6 Tucson, Arizona (CNN) -- As the U.S. House of Representatives resumes regular bu\n",
      "5 CISHAN, Taiwan (CNN) -- Taiwan's leader Ma Ying-jeou said Sunday he accepts resp\n",
      "5 London, England (CNN) -- Lockerbie bomber Abdelbeset al-Megrahi is \"a very sick \n",
      "0 LONDON, England (CNN) -- Tino Schaedler's impact as a virtual set designer is th\n",
      "0 (CNN) -- The killings we've seen at a Connecticut elementary school, and more re\n",
      "6 (CNN) -- The husband of a pregnant Texas woman -- who he says has been brain dea\n",
      "0 (CNN) -- I'm proud to be Ukrainian. Born in America and raised in a bilingual ho\n",
      "1 WASHINGTON, DC – The U.S. Department of Labor announced today that its Occupatio\n",
      "6 Washington (CNN) -- Nearly one of every 10 state prisoners is sexually victimize\n",
      "6 (CNN) -- A Molotov cocktail was tossed at an Islamic center in one of three atta\n",
      "6 Los Angeles (CNN) -- Two years after Demi Moore announced she wanted to end her \n",
      "8 Washington D.C., Dec. 15, 2021 —\n",
      "The Securities and Exchange Commission today pr\n",
      "0 (CNN) -- Ahdaf Soueif isn't in one place for long. She has spent the last month \n",
      "0 New York (CNN) -- He called the widow of Roger Maris a few days ago, a surprisin\n",
      "0 (CNN) -- Legend has it that when the surrealist painter Salvador Dali had to pay\n",
      "3 Washington (CNN) -- The looming decision on Syria is likely to preoccupy Congres\n",
      "6 Perugia, Italy (CNN) -- The trial for seven people accused of manslaughter in co\n",
      "5 (CNN) -- The United Nations plans to add 2,000 more soldiers to its peacekeeping\n",
      "3 Washington (CNN) -- Before Wednesday's Delaware Senate debate, the bulk of what \n",
      "5 LONDON, England (CNN)  -- Personal details and photographs of the incoming head \n",
      "3 CHICAGO, Illinois (CNN) -- President-elect Barack Obama called Nancy Reagan on F\n",
      "6 (CNN) -- Authorities looking for Hannah Graham found human remains Saturday on a\n",
      "4 WASHINGTON – The U.S. Department of the Treasury today announced the entry into \n",
      "6 (CNN) -- A preliminary autopsy on the body of an energy executive pulled from th\n",
      "5 Concepcion, Chile (CNN) -- The death toll in Chile was revised downward Thursday\n",
      "6 (CNN) -- St. Louis County Prosecutor Robert McCulloch juggled two roles on Wedne\n",
      "4 WASHINGTON — The Internal Revenue Service issued final regulationsPDF today on t\n",
      "1 HUTCHINSON, Kan. - Tyson Foods Inc. has been cited by the U.S. Department of Lab\n",
      "0 (CNN) -- Tempted as I am to write about Anthony Weiner's sexual compulsions, I t\n",
      "5 (CNN) -- While he fell short of bluntly saying, \"I told you so,\" Alexei Miller, \n",
      "0 BOSTON, Massachusetts (CNN) -- A huge mural greets visitors to the Reggie Lewis \n",
      "0 London (CNN) -- A breakthrough in graphene research which could pave the way for\n",
      "5 (CNN) -- At least four people were killed and dozens more were injured on Saturd\n",
      "0 (CNN) -- Dear cicada friends, . We know you probably don't speak English, but we\n",
      "6 (CNN) -- An Indiana woman shot her three children and set the family's house on \n",
      "5 (CNN)Israeli Prime Minister Benjamin Netanyahu's open conflict with U.S. Preside\n",
      "0 (CNN) -- Tony Stewart's profession is driving for millions of dollars a year in \n",
      "3 (CNN) -- Kyle Green, a University of Minnesota instructor, feels awful that he a\n",
      "3 (CNN) -- Former Vice President Al Gore endorsed Democratic presidential candidat\n",
      "4 WASHINGTON — The IRS issued a notice today announcing relief for certain retirem\n",
      "0 (CNN) -- There comes a time during pregnancy, after finally choosing the perfect\n",
      "5 JERUSALEM (CNN) -- The Israeli navy took control of a boat that violated an Isra\n",
      "5 (CNN)An Argentine judge has dismissed a criminal complaint accusing President Cr\n",
      "8 Washington D.C., Dec. 20, 2021 —\n",
      "The Securities and Exchange Commission today an\n",
      "5 (CNN)  -- Four years since a 9.0-magnitude earthquake spawned massive walls of w\n",
      "1 EVERGREEN, Ala. - The U.S. Department of Labor's Occupational Safety and Health \n",
      "5 Tehran, Iran (CNN) -- Iran has arrested suspects in connection with the July 201\n",
      "6 (CNN) -- Survivors of a mass shooting attack in Norway returned Saturday for the\n",
      "6 (CNN) -- A Utah judge Tuesday sentenced polygamist sect leader Warren Jeffs to t\n",
      "6 Madrid (CNN) -- An unprecedented court hearing for Spain's Princess Cristina in \n",
      "5 Paris, France (CNN) -- The French Senate approved Tuesday a law banning any veil\n",
      "6 (CNN) -- Police evacuated a mall in New Jersey on Saturday night after people mi\n",
      "6 (CNN) -- Florida prosecutors have offered teenager Kaitlyn Hunt a new plea deal \n",
      "5 BURSA, Turkey (CNN) -- Armenian President Serzh Sarkisian Wednesday became the f\n",
      "2 (CNN) -- Valencia led a trio of Spanish clubs into the semifinals of the Europa \n",
      "5 (CNN)Presumed dead by some, the actual fate of the aunt of North Korean leader K\n",
      "9 (CNN) -- Imagine searching the country of Belgium for three pieces of metal, the\n",
      "0 (CNN) -- Like a put-upon hotelier trying to fix a decrepit property while simult\n",
      "5 (CNN) -- The deadly attack on the U.S. Consulate in Benghazi underscores the gap\n",
      "4 Today, the U.S. Department of Health and Human Services (HHS), through its Offic\n",
      "6 (CNN) -- A group of former top counternarcotics officials are taking on Attorney\n",
      "0 (CNN) -- It was a mother's worst nightmare. On March 31, 2014, at 11 p.m., I rec\n",
      "0 ATLANTA, Georgia (CNN) -- Seventh graders at Ron Clark Academy became an overnig\n",
      "6 (CNN) -- A fourth man has pleaded guilty to a federal hate crime in the death of\n",
      "0 (CNN) -- The Caribbean -- home to cerulean waters, vibrant coral reefs and sugar\n",
      "6 MIAMI, Florida (CNN) -- One of two men charged with killing the crew of the Joe \n",
      "0 LOS ANGELES, California (CNN) -- Don't get Jason Mraz talking about his avocado \n",
      "2 (CNN) -- The international draw of its star players, the huge sums paid for righ\n",
      "5 (CNN) -- The U.S. government allegedly spied on prominent American Muslims under\n",
      "0 (CNN) -- Scout Willis definitely walks the walk. The 22-year-old daughter of Dem\n",
      "6 London (CNN) -- All flights into and out of London's Gatwick Airport were tempor\n",
      "3 (CNN)  -- Community organization ACORN is fighting back after allegations that i\n",
      "0 LONDON, England (CNN) -- Hailed as India's greatest actor, he's the legendary st\n",
      "5 Bangkok, Thailand (CNN) -- The consequences of ordering the military to crack do\n",
      "2 (CNN) -- Real Madrid shot to the top of La Liga on Saturday night after they won\n",
      "0 (CNN) -- A driver's best bet is to stay home when wintry weather coats the roads\n",
      "6 JACKSON, Tennessee (CNN) -- Tornadoes and storms in the mid-South have killed 55\n",
      "5 (CNN) -- The Arab League's decision to impose sweeping sanctions on Syria, a mov\n",
      "2 (CNN) -- England clinched rugby's Six Nations title for the first time since 200\n",
      "5 WASHINGTON – Today, the U.S. Department of the Treasury’s Office of Foreign Asse\n",
      "0 (CNN)Romance. Suspense. Good versus evil. On the surface, Rwandan radio soap ope\n",
      "8 Washington D.C., March 4, 2020 —\n",
      "Today, the Securities and Exchange Commission a\n",
      "0 LOS ANGELES, California (CNN) -- Elizabeth Taylor checked out of a Los Angeles h\n",
      "6 Midland City, Alabama (CNN) -- Residents of Midland City, Alabama, gathered to s\n",
      "0 (CNN) -- Strike up that \"Pink Panther\" theme song and hum along: Da-dum-da-dum, \n",
      "6 (CNN) -- Basketball commentator and former hoops star Charles Barkley was arrest\n",
      "8 London (CNN) -- Never mind the traffic, car owners in London have a new hazard t\n",
      "9 (CNN) -- It's the putt all golfers want to be stood over. The final hole of a Ma\n",
      "5 (CNN) -- The main road connecting the Syrian capital of Damascus with the city's\n",
      "0 (CNN) -- The news that America now has more cell phone subscribers than people d\n",
      "3 Vladivostok, Russia (CNN) -- U.S. Secretary of State Hillary Clinton signaled Sa\n",
      "0 MADRID, Spain (CNN) -- A restaurateur has gone to great lengths to tackle the sp\n",
      "6 (CNN) -- An off-duty police officer shot and killed his son in the family's Mary\n",
      "5 (CNN) -- Twitter posts about anti-government protests have landed a human rights\n",
      "0 (CNN) -- An old meatpacking plant on Chicago's South Side is being transformed i\n",
      "8 Antitrust agency heads from the United States, Canada, and Mexico meet today in \n",
      "2 (CNN) -- After being humbled by Manchester City in the FA Cup and drawing agains\n",
      "5 KAMPALA, Uganda (CNN) -- A fight between Ugandan and Libyan presidential guards \n",
      "0 (CNN) -- HTC is dipping its toes in the camera market with the new Re: a supersi\n",
      "3 (CNN) -- In a world of politicians who memorize sound bites and regurgitate them\n",
      "5 LONDON, England (CNN) -- British Prime Minister Gordon Brown has defended the UK\n",
      "4 WASHINGTON, December 12, 2018—The Federal Communications Commission today issued\n",
      "6 (CNN) -- Actor Edward James Olmos wishes he could trace his family's Mexican his\n",
      "2 (CNN) -- The Spanish football season is set to get under way this weekend, after\n",
      "0 (CNN) -- Freeze! Step away from the stack of face masks and hazmat suits. \"What'\n",
      "2 (CNN) -- Volcanic ash from an Icelandic eruption could reach British airspace Tu\n",
      "0 (CNN) -- Between 1.5 trillion and 2 trillion tons of ice in Greenland, Antarctic\n",
      "6 (CNN)  -- Rapper Lil Wayne was detained by U.S. Border Patrol agents in Texas on\n",
      "2 (CNN) -- Bayern Munich secured qualification for next season's Champions League \n",
      "6 (CNN) -- Boeing resumed testing Monday of its 787 Dreamliner in an effort to rec\n",
      "0 (CNN) -- On Sunday, Pope John Paul II and Pope John XXIII were canonized as sain\n",
      "6 (CNN) -- After hours of back and forth between members, the Evangelical Lutheran\n",
      "6 BANGKOK, Thailand (CNN)  -- A pregnant British woman facing possible execution i\n",
      "8 WASHINGTON – The Department of Justice announced today that it will participate \n"
     ]
    }
   ],
   "source": [
    "# repeat the process with test data\n",
    "W_test = nmf.transform(tfidf_documents_test)\n",
    "\n",
    "for doc_idx in range(tfidf_documents_test.shape[0]):\n",
    "    top_indices = np.argsort(W_test[doc_idx, :])[::-1]\n",
    "    print(top_indices[0], df_comb_test.iloc[doc_idx].text[:80])"
   ]
  },
  {
   "cell_type": "code",
   "execution_count": 14,
   "id": "797e895f",
   "metadata": {},
   "outputs": [
    {
     "name": "stdout",
     "output_type": "stream",
     "text": [
      "0 398 (CNN) -- Those of us who love travel know it can be a life changer. Since making resolutio\n",
      "0 553 (CNN) -- Does a special woman in your life spend far too much time thinking for herself? Y\n",
      "1 14 ALBANY, N.Y. - The U.S. Department of Labor's Occupational Safety and Health Administratio\n",
      "1 108 JACKSONVILLE, Fla. - The U.S. Department of Labor's Occupational Safety and Health Adminis\n",
      "2 91 (CNN) -- Arsenal have signed Moroccan international striker Marouane Chamakh from Bordeaux\n",
      "2 237 (CNN) -- Real Madrid, the kings of Europe, will take on a team living one of the greatest \n",
      "3 41 WASHINGTON (CNN) -- Sen. Hillary Clinton on Saturday will officially suspend her campaign \n",
      "3 679 (CNN) -- President Obama seems determined to launch a two-front war with the new Republica\n",
      "4 285 WASHINGTON — The Internal Revenue Service provided additional information to help taxpayer\n",
      "4 182 WASHINGTON — The Internal Revenue Service today issued proposed regulationsPDF  reducing t\n",
      "5 254 Rome (CNN) -- The United States promised Thursday to send food and medical supplies -- but\n",
      "5 508 (CNN) -- Deadly explosions rocked parts of Damascus on Saturday with some of the targets b\n",
      "6 296 Chardon, Ohio (CNN) -- Schools throughout the small town of Chardon, Ohio, will be closed \n",
      "6 667 Los Angeles (CNN) -- The Los Angeles Unified School District board on Tuesday fired Miramo\n",
      "7 612 AUGUSTA, Ga. - A Golden Corral restaurant franchisee located in Augusta, Ga., violated fed\n",
      "7 171 PHILADELPHIA – The nation's largest rail carrier paid a human resources regional director \n",
      "8 284 Washington D.C., Feb. 20, 2019 —The Securities and Exchange Commission today charged Glad\n",
      "8 68 Washington D.C., Sept. 18, 2019 —The Securities and Exchange Commission today announced t\n",
      "9 273 (CNN) -- Novak Djokovic will kick start his quest for a third straight Australian Open cro\n",
      "9 525 (CNN) -- World number one Novak Djokovic could face Roger Federer in the semifinals of the\n"
     ]
    }
   ],
   "source": [
    "# print the two documents that are most related to each topic\n",
    "top_docs = 2\n",
    "for topic_index in range(0,10):\n",
    "    top_indices = np.argsort(W[:, topic_index])[::-1]\n",
    "    top_documents = []\n",
    "    for doc_index in top_indices[0:top_docs]:\n",
    "        doc = df_comb_train.iloc[doc_index].text\n",
    "        print(topic_index, doc_index, doc[0:90].replace(\"\\n\", \"\"))\n",
    "        top_documents.append(doc)"
   ]
  },
  {
   "cell_type": "code",
   "execution_count": 15,
   "id": "f7f087b5",
   "metadata": {},
   "outputs": [
    {
     "data": {
      "text/plain": "<Figure size 432x288 with 1 Axes>",
      "image/png": "[encoded data removed]"
     },
     "metadata": {},
     "output_type": "display_data"
    }
   ],
   "source": [
    "# for the tennis/golf category (9), find the most likely terms\n",
    "sns.set(style=\"whitegrid\")\n",
    "topic_index = 9\n",
    "vocab = np.array(tfidf_feature_names)\n",
    "top_term_indices = np.array(np.argsort(H[topic_index, :])[::-1])[0:20]\n",
    "\n",
    "term_strings = vocab[top_term_indices]\n",
    "term_weights = H[topic_index, top_term_indices]\n",
    "\n",
    "sns.set_color_codes(\"pastel\")\n",
    "sns.barplot(x=term_weights, y=term_strings, label=\"Weight\", color=\"b\")\n",
    "\n",
    "plt.show()"
   ]
  },
  {
   "cell_type": "markdown",
   "source": [],
   "metadata": {
    "collapsed": false
   }
  },
  {
   "cell_type": "markdown",
   "source": [
    "### Build the Classifier\n",
    "Since NMF is repeatable for both train and test, let's combine both and create a classifier\n",
    "\n",
    "#### Part I: get the 512-embedding for each topic\n",
    "1. get $W, H$ from NMF(combined_data)\n",
    "2. get top 15 documents for each topic with the argmax across each column of $W$\n",
    "3. get an average topic embedding using a (weighted) average of the top 15 docs for each topic\n",
    "4. L2 normalize all average topic embeddings\n",
    "#### Part II: classify an arbitrary embedding $\\vec{e}$ _by topic using 20 words_\n",
    "1. find the most similar avarge embedding vector $\\vec{e_i} : i = \\text{argmax}_{\\forall i} \\left( \\frac{\\vec{e_{i}} \\bullet \\vec{e}}{|\\vec{e_i}||\\vec{e}|} \\right)$\n",
    "2. save $steps[i] := comp_{\\vec{e_i}}{\\vec{e}}$\n",
    "3. repeat steps II.1-2 like Gram-Schmidt (only difference is all \\vec{e_i} might not be orthogonal)\n",
    "4. sample 20 topics from $Softmax(steps)$\n",
    "5. for each of the 20 sampled topics $t$, sample 1 word from the $t^{th}$ column of $H$"
   ],
   "metadata": {
    "collapsed": false
   }
  },
  {
   "cell_type": "code",
   "execution_count": null,
   "outputs": [],
   "source": [
    "tfidf_documents_comb = tfidf_vectorizer.fit_transform(df_comb.text)\n"
   ],
   "metadata": {
    "collapsed": false,
    "pycharm": {
     "name": "#%%\n"
    }
   }
  },
  {
   "cell_type": "code",
   "execution_count": 20,
   "id": "a7e03134",
   "metadata": {},
   "outputs": [],
   "source": [
    "def find_closest(tgt):\n",
    "    max_score = -2\n",
    "    for i in range(NUM_TOPICS):\n",
    "        score = cosine_similarity(sent_dict[i], tgt)\n",
    "        if score > max_score:\n",
    "            max_score = score\n",
    "            most_related = i\n",
    "    return max_score, most_related"
   ]
  },
  {
   "cell_type": "code",
   "execution_count": 44,
   "id": "b6606db3",
   "metadata": {},
   "outputs": [
    {
     "ename": "ValueError",
     "evalue": "Incompatible dimension for X and Y matrices: X.shape[1] == 24503 while Y.shape[1] == 512",
     "output_type": "error",
     "traceback": [
      "\u001B[0;31m---------------------------------------------------------------------------\u001B[0m",
      "\u001B[0;31mValueError\u001B[0m                                Traceback (most recent call last)",
      "Input \u001B[0;32mIn [44]\u001B[0m, in \u001B[0;36m<cell line: 1>\u001B[0;34m()\u001B[0m\n\u001B[1;32m      1\u001B[0m \u001B[38;5;28;01mfor\u001B[39;00m i, ch \u001B[38;5;129;01min\u001B[39;00m \u001B[38;5;28menumerate\u001B[39m(df_comb_test\u001B[38;5;241m.\u001B[39membed):\n\u001B[0;32m----> 2\u001B[0m     \u001B[38;5;28mprint\u001B[39m(i, \u001B[43mfind_closest\u001B[49m\u001B[43m(\u001B[49m\u001B[43mch\u001B[49m\u001B[43m)\u001B[49m)\n",
      "Input \u001B[0;32mIn [20]\u001B[0m, in \u001B[0;36mfind_closest\u001B[0;34m(tgt)\u001B[0m\n\u001B[1;32m      2\u001B[0m max_score \u001B[38;5;241m=\u001B[39m \u001B[38;5;241m-\u001B[39m\u001B[38;5;241m2\u001B[39m\n\u001B[1;32m      3\u001B[0m \u001B[38;5;28;01mfor\u001B[39;00m i \u001B[38;5;129;01min\u001B[39;00m \u001B[38;5;28mrange\u001B[39m(NUM_TOPICS):\n\u001B[0;32m----> 4\u001B[0m     score \u001B[38;5;241m=\u001B[39m \u001B[43mcosine_similarity\u001B[49m\u001B[43m(\u001B[49m\u001B[43msent_dict\u001B[49m\u001B[43m[\u001B[49m\u001B[43mi\u001B[49m\u001B[43m]\u001B[49m\u001B[43m,\u001B[49m\u001B[43m \u001B[49m\u001B[43mtgt\u001B[49m\u001B[43m)\u001B[49m\n\u001B[1;32m      5\u001B[0m     \u001B[38;5;28;01mif\u001B[39;00m score \u001B[38;5;241m>\u001B[39m max_score:\n\u001B[1;32m      6\u001B[0m         max_score \u001B[38;5;241m=\u001B[39m score\n",
      "File \u001B[0;32m~/anaconda3/envs/RecSys_39/lib/python3.9/site-packages/sklearn/metrics/pairwise.py:1251\u001B[0m, in \u001B[0;36mcosine_similarity\u001B[0;34m(X, Y, dense_output)\u001B[0m\n\u001B[1;32m   1217\u001B[0m \u001B[38;5;124;03m\"\"\"Compute cosine similarity between samples in X and Y.\u001B[39;00m\n\u001B[1;32m   1218\u001B[0m \n\u001B[1;32m   1219\u001B[0m \u001B[38;5;124;03mCosine similarity, or the cosine kernel, computes similarity as the\u001B[39;00m\n\u001B[0;32m   (...)\u001B[0m\n\u001B[1;32m   1247\u001B[0m \u001B[38;5;124;03mkernel matrix : ndarray of shape (n_samples_X, n_samples_Y)\u001B[39;00m\n\u001B[1;32m   1248\u001B[0m \u001B[38;5;124;03m\"\"\"\u001B[39;00m\n\u001B[1;32m   1249\u001B[0m \u001B[38;5;66;03m# to avoid recursive import\u001B[39;00m\n\u001B[0;32m-> 1251\u001B[0m X, Y \u001B[38;5;241m=\u001B[39m \u001B[43mcheck_pairwise_arrays\u001B[49m\u001B[43m(\u001B[49m\u001B[43mX\u001B[49m\u001B[43m,\u001B[49m\u001B[43m \u001B[49m\u001B[43mY\u001B[49m\u001B[43m)\u001B[49m\n\u001B[1;32m   1253\u001B[0m X_normalized \u001B[38;5;241m=\u001B[39m normalize(X, copy\u001B[38;5;241m=\u001B[39m\u001B[38;5;28;01mTrue\u001B[39;00m)\n\u001B[1;32m   1254\u001B[0m \u001B[38;5;28;01mif\u001B[39;00m X \u001B[38;5;129;01mis\u001B[39;00m Y:\n",
      "File \u001B[0;32m~/anaconda3/envs/RecSys_39/lib/python3.9/site-packages/sklearn/metrics/pairwise.py:181\u001B[0m, in \u001B[0;36mcheck_pairwise_arrays\u001B[0;34m(X, Y, precomputed, dtype, accept_sparse, force_all_finite, copy)\u001B[0m\n\u001B[1;32m    175\u001B[0m         \u001B[38;5;28;01mraise\u001B[39;00m \u001B[38;5;167;01mValueError\u001B[39;00m(\n\u001B[1;32m    176\u001B[0m             \u001B[38;5;124m\"\u001B[39m\u001B[38;5;124mPrecomputed metric requires shape \u001B[39m\u001B[38;5;124m\"\u001B[39m\n\u001B[1;32m    177\u001B[0m             \u001B[38;5;124m\"\u001B[39m\u001B[38;5;124m(n_queries, n_indexed). Got (\u001B[39m\u001B[38;5;132;01m%d\u001B[39;00m\u001B[38;5;124m, \u001B[39m\u001B[38;5;132;01m%d\u001B[39;00m\u001B[38;5;124m) \u001B[39m\u001B[38;5;124m\"\u001B[39m\n\u001B[1;32m    178\u001B[0m             \u001B[38;5;124m\"\u001B[39m\u001B[38;5;124mfor \u001B[39m\u001B[38;5;132;01m%d\u001B[39;00m\u001B[38;5;124m indexed.\u001B[39m\u001B[38;5;124m\"\u001B[39m \u001B[38;5;241m%\u001B[39m (X\u001B[38;5;241m.\u001B[39mshape[\u001B[38;5;241m0\u001B[39m], X\u001B[38;5;241m.\u001B[39mshape[\u001B[38;5;241m1\u001B[39m], Y\u001B[38;5;241m.\u001B[39mshape[\u001B[38;5;241m0\u001B[39m])\n\u001B[1;32m    179\u001B[0m         )\n\u001B[1;32m    180\u001B[0m \u001B[38;5;28;01melif\u001B[39;00m X\u001B[38;5;241m.\u001B[39mshape[\u001B[38;5;241m1\u001B[39m] \u001B[38;5;241m!=\u001B[39m Y\u001B[38;5;241m.\u001B[39mshape[\u001B[38;5;241m1\u001B[39m]:\n\u001B[0;32m--> 181\u001B[0m     \u001B[38;5;28;01mraise\u001B[39;00m \u001B[38;5;167;01mValueError\u001B[39;00m(\n\u001B[1;32m    182\u001B[0m         \u001B[38;5;124m\"\u001B[39m\u001B[38;5;124mIncompatible dimension for X and Y matrices: \u001B[39m\u001B[38;5;124m\"\u001B[39m\n\u001B[1;32m    183\u001B[0m         \u001B[38;5;124m\"\u001B[39m\u001B[38;5;124mX.shape[1] == \u001B[39m\u001B[38;5;132;01m%d\u001B[39;00m\u001B[38;5;124m while Y.shape[1] == \u001B[39m\u001B[38;5;132;01m%d\u001B[39;00m\u001B[38;5;124m\"\u001B[39m \u001B[38;5;241m%\u001B[39m (X\u001B[38;5;241m.\u001B[39mshape[\u001B[38;5;241m1\u001B[39m], Y\u001B[38;5;241m.\u001B[39mshape[\u001B[38;5;241m1\u001B[39m])\n\u001B[1;32m    184\u001B[0m     )\n\u001B[1;32m    186\u001B[0m \u001B[38;5;28;01mreturn\u001B[39;00m X, Y\n",
      "\u001B[0;31mValueError\u001B[0m: Incompatible dimension for X and Y matrices: X.shape[1] == 24503 while Y.shape[1] == 512"
     ]
    }
   ],
   "source": [
    "for i, ch in enumerate(df_comb_test.embed):\n",
    "    print(i, find_closest(ch))"
   ]
  },
  {
   "cell_type": "markdown",
   "id": "deca2325",
   "metadata": {},
   "source": [
    "## LDA"
   ]
  },
  {
   "cell_type": "code",
   "execution_count": 85,
   "id": "2c60b74d",
   "metadata": {},
   "outputs": [],
   "source": []
  },
  {
   "cell_type": "code",
   "execution_count": 86,
   "id": "7a7f50a0",
   "metadata": {},
   "outputs": [],
   "source": [
    "tf_vectorizer = CountVectorizer(ngram_range = (1,3), \n",
    "                                   min_df=2,  \n",
    "                                   max_df=0.95,stop_words='english')\n",
    "tf_documents_train = tf_vectorizer.fit_transform(df_comb_train.text)\n",
    "tf_documents_test = tf_vectorizer.transform(df_comb_test.text)\n",
    "tf_feature_names = tf_vectorizer.get_feature_names_out()"
   ]
  },
  {
   "cell_type": "code",
   "execution_count": 87,
   "id": "b18a9321",
   "metadata": {},
   "outputs": [],
   "source": [
    "lda = LatentDirichletAllocation(n_components = NUM_TOPICS, random_state=42)\n",
    "W = lda.fit_transform(tf_documents_train)\n",
    "H = lda.components_"
   ]
  },
  {
   "cell_type": "code",
   "execution_count": 88,
   "id": "91bba08f",
   "metadata": {},
   "outputs": [
    {
     "name": "stdout",
     "output_type": "stream",
     "text": [
      "topic  0 ['said', 'cnn', 'year', 'state', 'time', 'world', 'people', 'told', 'like', 'government', 'court', 'new', 'just', 'years', 'united']\n",
      "topic  1 ['obama', 'said', 'president', 'clinton', 'cnn', 'republican', 'health', 'people', 'house', 'party', 'republicans', 'democrats', 'campaign', 'election', 'care']\n",
      "topic  2 ['said', 'health', 'safety', 'osha', 'people', 'north', 'workers', 'cnn', 'korea', 'south', 'united', 'safety health', 'according', 'government', 'report']\n",
      "topic  3 ['said', 'cnn', 'people', 'new', 'time', 'just', 'world', 'years', 'bank', 'year', 'billion', 'says', 'like', '000', 'money']\n",
      "topic  4 ['said', 'police', 'cnn', 'told', 'authorities', 'people', 'school', 'according', 'china', 'report', 'officials', 'state', 'security', 'reported', 'year']\n",
      "topic  5 ['said', 'program', 'cnn', 'president', 'flight', 'border', 'years', 'office', 'million', 'los angeles', 'angeles', 'los', 'year', 'school', 'people']\n",
      "topic  6 ['said', 'people', 'time', 'world', 'year', 'cnn', 'says', 'like', 'club', 'just', 'years', 'group', 'season', 'united', 'team']\n",
      "topic  7 ['said', 'new', 'people', 'cnn', 'like', 'year', 'time', 'just', 'new york', 'york', 'day', 'water', 'says', 'years', 'music']\n",
      "topic  8 ['said', 'people', 'cnn', 'health', 'pakistan', 'year', 'government', 'military', 'million', 'new', 'united', 'support', 'according', 'statement', 'public']\n",
      "topic  9 ['tax', 'eeoc', 'irs', 'sec', 'pay', 'today', 'information', 'district', 'federal', 'act', 'company', 'million', 'revenue', 'washington', 'taxpayers']\n"
     ]
    }
   ],
   "source": [
    "top = 15\n",
    "topic_index_max = NUM_TOPICS\n",
    "\n",
    "for topic_index in range(0, topic_index_max):\n",
    "    top_indices = np.argsort(H[topic_index, :])[::-1]\n",
    "    top_terms = []\n",
    "    for term_index in top_indices[0:top]:\n",
    "        top_terms.append(tfidf_feature_names[term_index])\n",
    "    print(\"topic \", topic_index, top_terms)"
   ]
  },
  {
   "cell_type": "code",
   "execution_count": 89,
   "id": "7c7ad35e",
   "metadata": {},
   "outputs": [
    {
     "name": "stdout",
     "output_type": "stream",
     "text": [
      "0 (CNN) -- Three men who were convicted of killing three Cub Scouts 16 years ago w\n",
      "1 (CNN) -- Despite the many differences I had with former President George W. Bush\n",
      "0 Jeddah, Saudi Arabia (CNN) -- At first glance, it looks like a standard road sig\n",
      "0 (CNN)  -- Cristie Kerr is the first player from the United States to top the wom\n",
      "8 (CNN) -- Bolivian President Evo Morales is apologizing to the Jewish community i\n",
      "2 Washington — The U.S. Department of Commerce’s United States Patent and Trademar\n",
      "4 (CNN) -- Defense attorneys representing accused Boston Marathon bomber Dzokhar T\n",
      "4 Pretoria, South Africa (CNN) -- Prosecutors in the Oscar Pistorius murder case w\n",
      "4 THE HAGUE, Netherlands (CNN) -- The chief prosecutor of the International Crimin\n",
      "9 WASHINGTON – As part of the Obama Administration's efforts to strengthen communi\n",
      "0 Sao Paulo, Brazil (CNN) -- Rio de Janeiro's special police forces declared Sunda\n",
      "6 (CNN) -- Spain's Luis Leon Sanchez gave his crash-ravaged Rabobank team a lift o\n",
      "0 (CNN) -- The World Cup has provided a festival of football and color in Brazil, \n",
      "7 (CNN) -- Vin Diesel has shared an \"emotional and bittersweet\" peek at \"Fast & Fu\n",
      "9 WASHINGTON —The Internal Revenue Service today made it easier for small business\n",
      "4 (CNN) -- An 11-year-old boy has been detained by Bahraini authorities for nearly\n",
      "0 (CNN) -- As a child, I thought growing up in a slum near a dumpsite in the Phili\n",
      "0 London (CNN) -- Tension in the stadium was at fever pitch, with the world record\n",
      "4 (CNN) -- Germany's intelligence service has intercepted phone calls by two U.S. \n",
      "0 (CNN) -- The Victoria and Albert Museum in London, UK has acquired two models of\n",
      "8 (CNN)French officials are still trying to determine what caused gunmen to attack\n",
      "8 (CNN) -- A California company is voluntarily recalling 60 packages of walnuts so\n",
      "2 WASHINGTON, DC – The U.S. Department of Labor’s Occupational Safety and Health A\n",
      "7 Tokyo (CNN) -- Japan may set standards for long-term radiation exposure that wou\n",
      "9 Washington, D.C., Dec. 11, 2008 — The Securities and Exchange Commission today c\n",
      "6 London, England (CNN) -- Each week, Global Connections takes two countries and a\n",
      "9 WASHINGTON -- The U.S. Equal Employment Opportunity Commission (EEOC) today anno\n",
      "0 WASHINGTON (CNN) -- The State Department will not renew the contract of security\n",
      "9 Washington D.C., Aug. 21, 2019 —\n",
      "The Securities and Exchange Commission today pr\n",
      "0 Nogales, Mexico (CNN) -- Inside a Mexican jail, Yanira Maldonado wept. A devout \n",
      "7 LOS ANGELES, California (CNN)  -- A crowd of about 10,000 came to Dodger Stadium\n",
      "0 Tripoli, Libya (CNN) -- Libyan state TV reported Sunday that the opposition-held\n",
      "0 (CNN) -- Grapple fans should head to Mongolia each year on July 11. It's the day\n",
      "4 Atlanta (CNN) -- Virginia State University's football team is ineligible for pos\n",
      "1 Washington (CNN) -- A federal court challenge to a new Arizona law aimed at curb\n",
      "6 (CNN) -- Days before Russia hosts the world for the Winter Olympics, authorities\n",
      "7 LONDON, England (CNN) -- The Screening Room went to the Theatre Royal in Drury L\n",
      "0 (CNN) -- In the digital age, war isn't contained to the ground. The Israeli gove\n",
      "6 (CNN) -- A Lionel Messi brace helped Barcelona to a 5-1 win over Athletic Bilbao\n",
      "1 (CNN) -- The Louisiana man who Saturday became the first Vietnamese-American ele\n",
      "1 (CNN) -- First-term Illinois Republican Sen. Mark Kirk said \"no frickin' way am \n",
      "0 (CNN) -- Hate to stand in long lines on Black Friday? After getting your fill of\n",
      "9 Today, the Office for Civil Rights (OCR) at the U.S. Department of Health and Hu\n",
      "6 (CNN) -- Liverpool captain Steven Gerrard says he is happy to stay with the Engl\n",
      "4 (CNN) -- The dramatic overthrow of Egypt's first democratically elected presiden\n",
      "4 (CNN) -- More than 300 relatives and friends of missing Flight MH370 passengers \n",
      "7 (CNN) -- ItÂ´s the ultimate repair tool. A silicone material that can be shaped \n",
      "9 Washington D.C., Sept. 26, 2019 —\n",
      "The Securities and Exchange Commission today a\n",
      "4 (CNN) -- Manuela Testolini and her colleagues had just sat down to dinner at the\n",
      "9 WASHINGTON — The Department of the Treasury and the Internal Revenue Service tod\n",
      "0 WASHINGTON (CNN) -- The case: routine. One man's summary of the facts: anything \n",
      "0 (CNN) -- When the world first met Mickey Mouse, it was as a steamboat captain, a\n",
      "4 (CNN) -- Up to 37 people died Friday after a fire tor through a psychiatric inst\n",
      "3 (CNN) -- Swiss chocolate maker Lindt is expanding into the U.S., China and Russi\n",
      "9 WASHINGTON – The U.S. Equal Employment Opportunity Commission (EEOC) updated its\n",
      "8 (CNN) -- No, not all men channel frustration over romantic rejection into a kill\n",
      "0 (CNN)  -- Tiger Woods may have clung on to his world number one status but after\n",
      "4 (CNN) -- Eight months after being shot in the head outside an Arizona supermarke\n",
      "4 Tucson, Arizona (CNN) -- As the U.S. House of Representatives resumes regular bu\n",
      "4 CISHAN, Taiwan (CNN) -- Taiwan's leader Ma Ying-jeou said Sunday he accepts resp\n",
      "4 London, England (CNN) -- Lockerbie bomber Abdelbeset al-Megrahi is \"a very sick \n",
      "7 LONDON, England (CNN) -- Tino Schaedler's impact as a virtual set designer is th\n",
      "0 (CNN) -- The killings we've seen at a Connecticut elementary school, and more re\n",
      "4 (CNN) -- The husband of a pregnant Texas woman -- who he says has been brain dea\n",
      "0 (CNN) -- I'm proud to be Ukrainian. Born in America and raised in a bilingual ho\n",
      "2 WASHINGTON, DC – The U.S. Department of Labor announced today that its Occupatio\n",
      "4 Washington (CNN) -- Nearly one of every 10 state prisoners is sexually victimize\n",
      "4 (CNN) -- A Molotov cocktail was tossed at an Islamic center in one of three atta\n",
      "0 Los Angeles (CNN) -- Two years after Demi Moore announced she wanted to end her \n",
      "9 Washington D.C., Dec. 15, 2021 —\n",
      "The Securities and Exchange Commission today pr\n",
      "0 (CNN) -- Ahdaf Soueif isn't in one place for long. She has spent the last month \n",
      "0 New York (CNN) -- He called the widow of Roger Maris a few days ago, a surprisin\n",
      "0 (CNN) -- Legend has it that when the surrealist painter Salvador Dali had to pay\n",
      "1 Washington (CNN) -- The looming decision on Syria is likely to preoccupy Congres\n",
      "4 Perugia, Italy (CNN) -- The trial for seven people accused of manslaughter in co\n",
      "4 (CNN) -- The United Nations plans to add 2,000 more soldiers to its peacekeeping\n",
      "1 Washington (CNN) -- Before Wednesday's Delaware Senate debate, the bulk of what \n",
      "0 LONDON, England (CNN)  -- Personal details and photographs of the incoming head \n",
      "1 CHICAGO, Illinois (CNN) -- President-elect Barack Obama called Nancy Reagan on F\n",
      "4 (CNN) -- Authorities looking for Hannah Graham found human remains Saturday on a\n",
      "9 WASHINGTON – The U.S. Department of the Treasury today announced the entry into \n",
      "4 (CNN) -- A preliminary autopsy on the body of an energy executive pulled from th\n",
      "4 Concepcion, Chile (CNN) -- The death toll in Chile was revised downward Thursday\n",
      "0 (CNN) -- St. Louis County Prosecutor Robert McCulloch juggled two roles on Wedne\n",
      "9 WASHINGTON — The Internal Revenue Service issued final regulationsPDF today on t\n",
      "2 HUTCHINSON, Kan. - Tyson Foods Inc. has been cited by the U.S. Department of Lab\n",
      "1 (CNN) -- Tempted as I am to write about Anthony Weiner's sexual compulsions, I t\n",
      "0 (CNN) -- While he fell short of bluntly saying, \"I told you so,\" Alexei Miller, \n",
      "7 BOSTON, Massachusetts (CNN) -- A huge mural greets visitors to the Reggie Lewis \n",
      "0 London (CNN) -- A breakthrough in graphene research which could pave the way for\n",
      "0 (CNN) -- At least four people were killed and dozens more were injured on Saturd\n",
      "7 (CNN) -- Dear cicada friends, . We know you probably don't speak English, but we\n",
      "4 (CNN) -- An Indiana woman shot her three children and set the family's house on \n",
      "0 (CNN)Israeli Prime Minister Benjamin Netanyahu's open conflict with U.S. Preside\n",
      "7 (CNN) -- Tony Stewart's profession is driving for millions of dollars a year in \n",
      "0 (CNN) -- Kyle Green, a University of Minnesota instructor, feels awful that he a\n",
      "1 (CNN) -- Former Vice President Al Gore endorsed Democratic presidential candidat\n",
      "9 WASHINGTON — The IRS issued a notice today announcing relief for certain retirem\n",
      "0 (CNN) -- There comes a time during pregnancy, after finally choosing the perfect\n",
      "4 JERUSALEM (CNN) -- The Israeli navy took control of a boat that violated an Isra\n",
      "4 (CNN)An Argentine judge has dismissed a criminal complaint accusing President Cr\n",
      "9 Washington D.C., Dec. 20, 2021 —\n",
      "The Securities and Exchange Commission today an\n",
      "8 (CNN)  -- Four years since a 9.0-magnitude earthquake spawned massive walls of w\n",
      "2 EVERGREEN, Ala. - The U.S. Department of Labor's Occupational Safety and Health \n",
      "4 Tehran, Iran (CNN) -- Iran has arrested suspects in connection with the July 201\n",
      "4 (CNN) -- Survivors of a mass shooting attack in Norway returned Saturday for the\n",
      "0 (CNN) -- A Utah judge Tuesday sentenced polygamist sect leader Warren Jeffs to t\n",
      "0 Madrid (CNN) -- An unprecedented court hearing for Spain's Princess Cristina in \n",
      "0 Paris, France (CNN) -- The French Senate approved Tuesday a law banning any veil\n",
      "4 (CNN) -- Police evacuated a mall in New Jersey on Saturday night after people mi\n",
      "4 (CNN) -- Florida prosecutors have offered teenager Kaitlyn Hunt a new plea deal \n",
      "0 BURSA, Turkey (CNN) -- Armenian President Serzh Sarkisian Wednesday became the f\n",
      "6 (CNN) -- Valencia led a trio of Spanish clubs into the semifinals of the Europa \n",
      "2 (CNN)Presumed dead by some, the actual fate of the aunt of North Korean leader K\n",
      "0 (CNN) -- Imagine searching the country of Belgium for three pieces of metal, the\n",
      "0 (CNN) -- Like a put-upon hotelier trying to fix a decrepit property while simult\n",
      "4 (CNN) -- The deadly attack on the U.S. Consulate in Benghazi underscores the gap\n",
      "8 Today, the U.S. Department of Health and Human Services (HHS), through its Offic\n",
      "0 (CNN) -- A group of former top counternarcotics officials are taking on Attorney\n",
      "0 (CNN) -- It was a mother's worst nightmare. On March 31, 2014, at 11 p.m., I rec\n",
      "7 ATLANTA, Georgia (CNN) -- Seventh graders at Ron Clark Academy became an overnig\n",
      "4 (CNN) -- A fourth man has pleaded guilty to a federal hate crime in the death of\n",
      "0 (CNN) -- The Caribbean -- home to cerulean waters, vibrant coral reefs and sugar\n",
      "4 MIAMI, Florida (CNN) -- One of two men charged with killing the crew of the Joe \n",
      "7 LOS ANGELES, California (CNN) -- Don't get Jason Mraz talking about his avocado \n",
      "6 (CNN) -- The international draw of its star players, the huge sums paid for righ\n",
      "4 (CNN) -- The U.S. government allegedly spied on prominent American Muslims under\n",
      "7 (CNN) -- Scout Willis definitely walks the walk. The 22-year-old daughter of Dem\n",
      "4 London (CNN) -- All flights into and out of London's Gatwick Airport were tempor\n",
      "1 (CNN)  -- Community organization ACORN is fighting back after allegations that i\n",
      "7 LONDON, England (CNN) -- Hailed as India's greatest actor, he's the legendary st\n",
      "0 Bangkok, Thailand (CNN) -- The consequences of ordering the military to crack do\n",
      "6 (CNN) -- Real Madrid shot to the top of La Liga on Saturday night after they won\n",
      "0 (CNN) -- A driver's best bet is to stay home when wintry weather coats the roads\n",
      "4 JACKSON, Tennessee (CNN) -- Tornadoes and storms in the mid-South have killed 55\n",
      "0 (CNN) -- The Arab League's decision to impose sweeping sanctions on Syria, a mov\n",
      "6 (CNN) -- England clinched rugby's Six Nations title for the first time since 200\n",
      "9 WASHINGTON – Today, the U.S. Department of the Treasury’s Office of Foreign Asse\n",
      "0 (CNN)Romance. Suspense. Good versus evil. On the surface, Rwandan radio soap ope\n",
      "9 Washington D.C., March 4, 2020 —\n",
      "Today, the Securities and Exchange Commission a\n",
      "3 LOS ANGELES, California (CNN) -- Elizabeth Taylor checked out of a Los Angeles h\n",
      "4 Midland City, Alabama (CNN) -- Residents of Midland City, Alabama, gathered to s\n",
      "0 (CNN) -- Strike up that \"Pink Panther\" theme song and hum along: Da-dum-da-dum, \n",
      "0 (CNN) -- Basketball commentator and former hoops star Charles Barkley was arrest\n",
      "7 London (CNN) -- Never mind the traffic, car owners in London have a new hazard t\n",
      "0 (CNN) -- It's the putt all golfers want to be stood over. The final hole of a Ma\n",
      "0 (CNN) -- The main road connecting the Syrian capital of Damascus with the city's\n",
      "7 (CNN) -- The news that America now has more cell phone subscribers than people d\n",
      "0 Vladivostok, Russia (CNN) -- U.S. Secretary of State Hillary Clinton signaled Sa\n",
      "0 MADRID, Spain (CNN) -- A restaurateur has gone to great lengths to tackle the sp\n",
      "4 (CNN) -- An off-duty police officer shot and killed his son in the family's Mary\n",
      "4 (CNN) -- Twitter posts about anti-government protests have landed a human rights\n",
      "7 (CNN) -- An old meatpacking plant on Chicago's South Side is being transformed i\n",
      "9 Antitrust agency heads from the United States, Canada, and Mexico meet today in \n",
      "6 (CNN) -- After being humbled by Manchester City in the FA Cup and drawing agains\n",
      "0 KAMPALA, Uganda (CNN) -- A fight between Ugandan and Libyan presidential guards \n",
      "7 (CNN) -- HTC is dipping its toes in the camera market with the new Re: a supersi\n",
      "1 (CNN) -- In a world of politicians who memorize sound bites and regurgitate them\n",
      "8 LONDON, England (CNN) -- British Prime Minister Gordon Brown has defended the UK\n",
      "9 WASHINGTON, December 12, 2018—The Federal Communications Commission today issued\n",
      "0 (CNN) -- Actor Edward James Olmos wishes he could trace his family's Mexican his\n",
      "6 (CNN) -- The Spanish football season is set to get under way this weekend, after\n",
      "0 (CNN) -- Freeze! Step away from the stack of face masks and hazmat suits. \"What'\n",
      "6 (CNN) -- Volcanic ash from an Icelandic eruption could reach British airspace Tu\n",
      "0 (CNN) -- Between 1.5 trillion and 2 trillion tons of ice in Greenland, Antarctic\n",
      "4 (CNN)  -- Rapper Lil Wayne was detained by U.S. Border Patrol agents in Texas on\n",
      "6 (CNN) -- Bayern Munich secured qualification for next season's Champions League \n",
      "3 (CNN) -- Boeing resumed testing Monday of its 787 Dreamliner in an effort to rec\n",
      "0 (CNN) -- On Sunday, Pope John Paul II and Pope John XXIII were canonized as sain\n",
      "0 (CNN) -- After hours of back and forth between members, the Evangelical Lutheran\n",
      "4 BANGKOK, Thailand (CNN)  -- A pregnant British woman facing possible execution i\n",
      "9 WASHINGTON – The Department of Justice announced today that it will participate \n"
     ]
    }
   ],
   "source": [
    "W_test = lda.transform(tf_documents_test)\n",
    "\n",
    "for doc_idx in range(tf_documents_test.shape[0]):\n",
    "    top_indices = np.argsort(W_test[doc_idx, :])[::-1]\n",
    "    print(top_indices[0], df_comb_test.iloc[doc_idx].text[:80])"
   ]
  },
  {
   "cell_type": "markdown",
   "id": "b14cdcb3",
   "metadata": {},
   "source": [
    "# Bloomberg API"
   ]
  },
  {
   "cell_type": "code",
   "execution_count": 12,
   "id": "f2df715b",
   "metadata": {},
   "outputs": [],
   "source": [
    "import requests\n",
    "import json\n",
    "import pandas as pd\n",
    "\n",
    "def get_embedding(text, api_key):\n",
    "    ## API Definitions\n",
    "    url = \"https://datathon.bindgapi.com/channel\"\n",
    "    headers =  {\n",
    "        \"X-API-Key\": api_key,\n",
    "        \"Content-Type\":\"application/json\"\n",
    "    }\n",
    "    body = { \"inputs\": text }\n",
    "    ## API Call\n",
    "    try:\n",
    "        response = requests.post(url, data=json.dumps(body), headers=headers)\n",
    "    except Exception:\n",
    "        print(Exception)\n",
    "        \n",
    "    try:\n",
    "        # return response \n",
    "        result = response.json()\n",
    "        return json.loads(result['results'])\n",
    "    except:\n",
    "        print(response.status_code)\n",
    "        \n",
    "API_KEY = 'key'\n",
    "emb = get_embedding('(CNN) Champion\\'s League soccer game between European clubs.', API_KEY)"
   ]
  },
  {
   "cell_type": "code",
   "execution_count": 13,
   "outputs": [],
   "source": [
    "import numpy as np\n",
    "\n",
    "df_cha = pd.read_csv('challenge.csv')\n",
    "df_cha['embed'] = df_cha['embeddings'].apply(lambda x: np.array([float(s) for s in x[1:-1].split(', ')]).reshape(1,-1))"
   ],
   "metadata": {
    "collapsed": false,
    "pycharm": {
     "name": "#%%\n"
    }
   }
  },
  {
   "cell_type": "code",
   "execution_count": 25,
   "outputs": [],
   "source": [
    "guesses = [\n",
    "    \"(CNN) Champion's League football game between clubs\",\n",
    "    \"(CNN) Match from a grand slam tennis open\",\n",
    "    \"Department of Labor US Government report about workplace conditions\",\n",
    "    \"Washington National security in the Middle East\",\n",
    "    \"(CNN) Social Media and lifestyle news\"\n",
    "]"
   ],
   "metadata": {
    "collapsed": false,
    "pycharm": {
     "name": "#%%\n"
    }
   }
  },
  {
   "cell_type": "code",
   "execution_count": 26,
   "outputs": [
    {
     "name": "stdout",
     "output_type": "stream",
     "text": [
      "[[0.60493136]]\n",
      "[[0.53335884]]\n",
      "[[0.42239219]]\n",
      "[[0.57774189]]\n",
      "[[0.55076987]]\n"
     ]
    }
   ],
   "source": [
    "from sklearn.metrics.pairwise import cosine_similarity\n",
    "\n",
    "for embed, guess in zip(df_cha['embed'], guesses):\n",
    "    emb_g = get_embedding(guess, API_KEY)\n",
    "    emb_g = np.array(emb_g).reshape(1, -1)\n",
    "    print(cosine_similarity(emb_g, embed))"
   ],
   "metadata": {
    "collapsed": false,
    "pycharm": {
     "name": "#%%\n"
    }
   }
  }
 ],
 "metadata": {
  "kernelspec": {
   "display_name": "Python 3 (ipykernel)",
   "language": "python",
   "name": "python3"
  },
  "language_info": {
   "codemirror_mode": {
    "name": "ipython",
    "version": 3
   },
   "file_extension": ".py",
   "mimetype": "text/x-python",
   "name": "python",
   "nbconvert_exporter": "python",
   "pygments_lexer": "ipython3",
   "version": "3.9.12"
  }
 },
 "nbformat": 4,
 "nbformat_minor": 5
}